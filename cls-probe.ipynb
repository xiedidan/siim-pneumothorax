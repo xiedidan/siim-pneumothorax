{
 "cells": [
  {
   "cell_type": "markdown",
   "metadata": {},
   "source": [
    "# class probe\n",
    "\n",
    "we compare classification results between unet and hc  \n"
   ]
  },
  {
   "cell_type": "code",
   "execution_count": 35,
   "metadata": {},
   "outputs": [],
   "source": [
    "import multiprocessing as mp\n",
    "import sys\n",
    "\n",
    "import pandas as pd\n",
    "import torch\n",
    "import PIL\n",
    "from PIL import Image\n",
    "import numpy as np\n",
    "\n",
    "sys.path.insert(0, '../../data/siim-pneumothorax')\n",
    "from mask_functions import *"
   ]
  },
  {
   "cell_type": "code",
   "execution_count": 2,
   "metadata": {},
   "outputs": [],
   "source": [
    "hc_df = pd.read_csv('hc_0_4folds_cls.csv')\n",
    "unet_df = pd.read_csv('unet_20190716-171659_4folds_cls.csv')\n"
   ]
  },
  {
   "cell_type": "code",
   "execution_count": 13,
   "metadata": {},
   "outputs": [],
   "source": [
    "def translate(rle):\n",
    "    if rle == '-1':\n",
    "        return 'pos'\n",
    "    else:\n",
    "        return 'neg'"
   ]
  },
  {
   "cell_type": "markdown",
   "metadata": {},
   "source": [
    "# we are using cls probe csv, so -1 means positive prediction\n",
    "def cls_count(df):\n",
    "    pos_count = 0\n",
    "    neg_count = 0\n",
    "    \n",
    "    cls_list = list(df['EncodedPixels'])\n",
    "    for cls in cls_list:\n",
    "        if cls == '-1':\n",
    "            pos_count += 1\n",
    "        else:\n",
    "            neg_count += 1\n",
    "            \n",
    "    return pos_count, neg_count"
   ]
  },
  {
   "cell_type": "code",
   "execution_count": 8,
   "metadata": {},
   "outputs": [
    {
     "name": "stdout",
     "output_type": "stream",
     "text": [
      "hc - pos: 202, neg: 1175\n",
      "unet - pos: 202, neg: 1175\n"
     ]
    }
   ],
   "source": [
    "hc_pos, hc_neg = cls_count(hc_df)\n",
    "u_pos, u_neg = cls_count(unet_df)\n",
    "\n",
    "print('hc - pos: {}, neg: {}'.format(hc_pos, hc_neg))\n",
    "print('unet - pos: {}, neg: {}'.format(u_pos, u_neg))"
   ]
  },
  {
   "cell_type": "code",
   "execution_count": 16,
   "metadata": {},
   "outputs": [
    {
     "name": "stdout",
     "output_type": "stream",
     "text": [
      "id: 1.2.276.0.7230010.3.1.4.8323329.6967.1517875202.154226, hc: neg, u: pos\n",
      "id: 1.2.276.0.7230010.3.1.4.8323329.6540.1517875198.820092, hc: neg, u: pos\n",
      "id: 1.2.276.0.7230010.3.1.4.8323329.6789.1517875201.161293, hc: neg, u: pos\n",
      "id: 1.2.276.0.7230010.3.1.4.8323329.6473.1517875198.462294, hc: neg, u: pos\n",
      "id: 1.2.276.0.7230010.3.1.4.8323329.6703.1517875199.611760, hc: neg, u: pos\n",
      "id: 1.2.276.0.7230010.3.1.4.8323329.615.1517875163.703375, hc: neg, u: pos\n",
      "id: 1.2.276.0.7230010.3.1.4.8323329.6874.1517875201.664174, hc: neg, u: pos\n",
      "id: 1.2.276.0.7230010.3.1.4.8323329.6109.1517875196.574624, hc: neg, u: pos\n",
      "id: 1.2.276.0.7230010.3.1.4.8323329.6721.1517875199.820400, hc: neg, u: pos\n",
      "id: 1.2.276.0.7230010.3.1.4.8323329.6159.1517875196.803533, hc: neg, u: pos\n",
      "id: 1.2.276.0.7230010.3.1.4.8323329.6338.1517875197.693438, hc: neg, u: pos\n",
      "id: 1.2.276.0.7230010.3.1.4.8323329.6602.1517875199.139989, hc: neg, u: pos\n",
      "id: 1.2.276.0.7230010.3.1.4.8323329.5840.1517875191.649829, hc: neg, u: pos\n",
      "id: 1.2.276.0.7230010.3.1.4.8323329.5937.1517875192.957160, hc: neg, u: pos\n",
      "id: 1.2.276.0.7230010.3.1.4.8323329.6281.1517875197.432941, hc: neg, u: pos\n",
      "id: 1.2.276.0.7230010.3.1.4.8323329.6307.1517875197.531851, hc: neg, u: pos\n",
      "id: 1.2.276.0.7230010.3.1.4.8323329.6584.1517875199.43754, hc: neg, u: pos\n",
      "id: 1.2.276.0.7230010.3.1.4.8323329.6405.1517875198.3857, hc: neg, u: pos\n",
      "id: 1.2.276.0.7230010.3.1.4.8323329.6063.1517875195.897680, hc: neg, u: pos\n"
     ]
    }
   ],
   "source": [
    "hc_cls_list = list(hc_df['EncodedPixels'])\n",
    "u_cls_list = list(unet_df['EncodedPixels'])\n",
    "id_list = list(hc_df['ImageId'])\n",
    "\n",
    "diff_id_list = []\n",
    "\n",
    "for i in range(len(hc_df)):\n",
    "    if hc_cls_list[i] != u_cls_list[i]:\n",
    "        if hc_cls_list[i] == '1 2' and u_cls_list[i] == '-1':\n",
    "            print('id: {}, hc: {}, u: {}'.format(id_list[i], translate(hc_cls_list[i]), translate(u_cls_list[i])))\n"
   ]
  },
  {
   "cell_type": "markdown",
   "metadata": {},
   "source": [
    "## let's try to directly merge mask"
   ]
  },
  {
   "cell_type": "code",
   "execution_count": 18,
   "metadata": {},
   "outputs": [],
   "source": [
    "unet_mask_df = pd.read_csv('unet_20190716-171659_4folds.csv')\n",
    "unet_mask_list = list(unet_mask_df['EncodedPixels'])\n",
    "\n",
    "merge_mask_list = []\n",
    "\n",
    "for i, hc_cls in enumerate(hc_cls_list):\n",
    "    if hc_cls == '1 2':\n",
    "        merge_mask_list.append('-1')\n",
    "    else:\n",
    "        merge_mask_list.append(unet_mask_list[i])\n"
   ]
  },
  {
   "cell_type": "code",
   "execution_count": 19,
   "metadata": {},
   "outputs": [
    {
     "data": {
      "text/html": [
       "<div>\n",
       "<style scoped>\n",
       "    .dataframe tbody tr th:only-of-type {\n",
       "        vertical-align: middle;\n",
       "    }\n",
       "\n",
       "    .dataframe tbody tr th {\n",
       "        vertical-align: top;\n",
       "    }\n",
       "\n",
       "    .dataframe thead th {\n",
       "        text-align: right;\n",
       "    }\n",
       "</style>\n",
       "<table border=\"1\" class=\"dataframe\">\n",
       "  <thead>\n",
       "    <tr style=\"text-align: right;\">\n",
       "      <th></th>\n",
       "      <th>ImageId</th>\n",
       "      <th>EncodedPixels</th>\n",
       "    </tr>\n",
       "  </thead>\n",
       "  <tbody>\n",
       "    <tr>\n",
       "      <th>0</th>\n",
       "      <td>1.2.276.0.7230010.3.1.4.8323329.6106.151787519...</td>\n",
       "      <td>-1</td>\n",
       "    </tr>\n",
       "    <tr>\n",
       "      <th>1</th>\n",
       "      <td>1.2.276.0.7230010.3.1.4.8323329.6588.151787519...</td>\n",
       "      <td>-1</td>\n",
       "    </tr>\n",
       "    <tr>\n",
       "      <th>2</th>\n",
       "      <td>1.2.276.0.7230010.3.1.4.8323329.6014.151787519...</td>\n",
       "      <td>-1</td>\n",
       "    </tr>\n",
       "    <tr>\n",
       "      <th>3</th>\n",
       "      <td>1.2.276.0.7230010.3.1.4.8323329.6813.151787520...</td>\n",
       "      <td>-1</td>\n",
       "    </tr>\n",
       "    <tr>\n",
       "      <th>4</th>\n",
       "      <td>1.2.276.0.7230010.3.1.4.8323329.699.1517875164...</td>\n",
       "      <td>-1</td>\n",
       "    </tr>\n",
       "  </tbody>\n",
       "</table>\n",
       "</div>"
      ],
      "text/plain": [
       "                                             ImageId EncodedPixels\n",
       "0  1.2.276.0.7230010.3.1.4.8323329.6106.151787519...            -1\n",
       "1  1.2.276.0.7230010.3.1.4.8323329.6588.151787519...            -1\n",
       "2  1.2.276.0.7230010.3.1.4.8323329.6014.151787519...            -1\n",
       "3  1.2.276.0.7230010.3.1.4.8323329.6813.151787520...            -1\n",
       "4  1.2.276.0.7230010.3.1.4.8323329.699.1517875164...            -1"
      ]
     },
     "execution_count": 19,
     "metadata": {},
     "output_type": "execute_result"
    }
   ],
   "source": [
    "sub_df = pd.DataFrame({'ImageId': id_list, 'EncodedPixels': merge_mask_list})\n",
    "sub_df.loc[sub_df.EncodedPixels=='', 'EncodedPixels'] = '-1'\n",
    "sub_df.to_csv('merge.csv', index=False)\n",
    "sub_df.head()"
   ]
  },
  {
   "cell_type": "markdown",
   "metadata": {},
   "source": [
    "## let's try to merge ptt"
   ]
  },
  {
   "cell_type": "code",
   "execution_count": 22,
   "metadata": {},
   "outputs": [],
   "source": [
    "hc_best_thr = 0.245\n",
    "u_best_thr = 0.2625\n",
    "\n",
    "best_thr = (hc_best_thr + u_best_thr) / 2\n",
    "\n",
    "hc_ptt = torch.load('hc_ptt.pth')\n",
    "u_ptt = torch.load('unet_ptt.pth')\n",
    "\n",
    "ptt = (hc_ptt + u_ptt) / 2\n"
   ]
  },
  {
   "cell_type": "code",
   "execution_count": 23,
   "metadata": {},
   "outputs": [],
   "source": [
    "# majority vote - no we don't actually use vote\n",
    "pt_vote = torch.where(ptt > best_thr, torch.ones_like(ptt), torch.zeros_like(ptt))\n"
   ]
  },
  {
   "cell_type": "code",
   "execution_count": 25,
   "metadata": {},
   "outputs": [],
   "source": [
    "# noise removal\n",
    "sz = 256\n",
    "noise_th = 75.0*(sz/128.0)**2 #threshold for the number of predicted pixels\n",
    "\n",
    "pt_vote[pt_vote.view(pt_vote.shape[0],-1).sum(-1) < noise_th,...] = 0.0\n",
    "pt_vote = pt_vote.numpy()\n"
   ]
  },
  {
   "cell_type": "code",
   "execution_count": 36,
   "metadata": {},
   "outputs": [],
   "source": [
    "# Generate rle encodings in parallel (images are first converted to the original size)\n",
    "mask_size = 1024\n",
    "\n",
    "def mask_worker(mask):\n",
    "    im = PIL.Image.fromarray((mask.T*255).astype(np.uint8)).resize((mask_size, mask_size))\n",
    "    im = np.asarray(im)\n",
    "    rle = mask2rle(im, mask_size, mask_size)\n",
    "    \n",
    "    return rle\n",
    "\n",
    "pool = mp.Pool()\n",
    "rles = pool.map(mask_worker, pt_vote)\n"
   ]
  },
  {
   "cell_type": "code",
   "execution_count": 38,
   "metadata": {},
   "outputs": [
    {
     "data": {
      "text/html": [
       "<div>\n",
       "<style scoped>\n",
       "    .dataframe tbody tr th:only-of-type {\n",
       "        vertical-align: middle;\n",
       "    }\n",
       "\n",
       "    .dataframe tbody tr th {\n",
       "        vertical-align: top;\n",
       "    }\n",
       "\n",
       "    .dataframe thead th {\n",
       "        text-align: right;\n",
       "    }\n",
       "</style>\n",
       "<table border=\"1\" class=\"dataframe\">\n",
       "  <thead>\n",
       "    <tr style=\"text-align: right;\">\n",
       "      <th></th>\n",
       "      <th>ImageId</th>\n",
       "      <th>EncodedPixels</th>\n",
       "    </tr>\n",
       "  </thead>\n",
       "  <tbody>\n",
       "    <tr>\n",
       "      <th>0</th>\n",
       "      <td>1.2.276.0.7230010.3.1.4.8323329.6106.151787519...</td>\n",
       "      <td>-1</td>\n",
       "    </tr>\n",
       "    <tr>\n",
       "      <th>1</th>\n",
       "      <td>1.2.276.0.7230010.3.1.4.8323329.6588.151787519...</td>\n",
       "      <td>-1</td>\n",
       "    </tr>\n",
       "    <tr>\n",
       "      <th>2</th>\n",
       "      <td>1.2.276.0.7230010.3.1.4.8323329.6014.151787519...</td>\n",
       "      <td>-1</td>\n",
       "    </tr>\n",
       "    <tr>\n",
       "      <th>3</th>\n",
       "      <td>1.2.276.0.7230010.3.1.4.8323329.6813.151787520...</td>\n",
       "      <td>-1</td>\n",
       "    </tr>\n",
       "    <tr>\n",
       "      <th>4</th>\n",
       "      <td>1.2.276.0.7230010.3.1.4.8323329.699.1517875164...</td>\n",
       "      <td>-1</td>\n",
       "    </tr>\n",
       "  </tbody>\n",
       "</table>\n",
       "</div>"
      ],
      "text/plain": [
       "                                             ImageId EncodedPixels\n",
       "0  1.2.276.0.7230010.3.1.4.8323329.6106.151787519...            -1\n",
       "1  1.2.276.0.7230010.3.1.4.8323329.6588.151787519...            -1\n",
       "2  1.2.276.0.7230010.3.1.4.8323329.6014.151787519...            -1\n",
       "3  1.2.276.0.7230010.3.1.4.8323329.6813.151787520...            -1\n",
       "4  1.2.276.0.7230010.3.1.4.8323329.699.1517875164...            -1"
      ]
     },
     "execution_count": 38,
     "metadata": {},
     "output_type": "execute_result"
    }
   ],
   "source": [
    "sub_df = pd.DataFrame({'ImageId': id_list, 'EncodedPixels': rles})\n",
    "sub_df.loc[sub_df.EncodedPixels=='', 'EncodedPixels'] = '-1'\n",
    "sub_df.to_csv('merge_feature.csv', index=False)\n",
    "sub_df.head()\n"
   ]
  },
  {
   "cell_type": "code",
   "execution_count": null,
   "metadata": {},
   "outputs": [],
   "source": []
  }
 ],
 "metadata": {
  "kernelspec": {
   "display_name": "Python siim",
   "language": "python",
   "name": "siim"
  },
  "language_info": {
   "codemirror_mode": {
    "name": "ipython",
    "version": 3
   },
   "file_extension": ".py",
   "mimetype": "text/x-python",
   "name": "python",
   "nbconvert_exporter": "python",
   "pygments_lexer": "ipython3",
   "version": "3.7.3"
  }
 },
 "nbformat": 4,
 "nbformat_minor": 2
}
