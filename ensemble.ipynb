{
 "cells": [
  {
   "cell_type": "markdown",
   "metadata": {},
   "source": [
    "# hc ensemble\n",
    "\n",
    "## common"
   ]
  },
  {
   "cell_type": "code",
   "execution_count": 1,
   "metadata": {},
   "outputs": [
    {
     "data": {
      "text/plain": [
       "'1.0.54'"
      ]
     },
     "execution_count": 1,
     "metadata": {},
     "output_type": "execute_result"
    }
   ],
   "source": [
    "%reload_ext autoreload\n",
    "%autoreload 2\n",
    "%matplotlib inline\n",
    "\n",
    "import multiprocessing as mp\n",
    "from datetime import datetime\n",
    "import traceback\n",
    "import sys\n",
    "sys.path.insert(0, '../../data/siim-pneumothorax')\n",
    "\n",
    "import torch\n",
    "import torch.nn as nn\n",
    "import torch.nn.functional as F\n",
    "import fastai\n",
    "from fastai.vision import *\n",
    "from mask_functions import *\n",
    "from fastai.callbacks import SaveModelCallback\n",
    "import gc\n",
    "from sklearn.model_selection import KFold\n",
    "from PIL import Image\n",
    "from mpl_toolkits.mplot3d import Axes3D\n",
    "\n",
    "fastai.__version__"
   ]
  },
  {
   "cell_type": "code",
   "execution_count": 2,
   "metadata": {},
   "outputs": [],
   "source": [
    "data_path = '../../data/siim-pneumothorax'"
   ]
  },
  {
   "cell_type": "code",
   "execution_count": 3,
   "metadata": {},
   "outputs": [
    {
     "name": "stdout",
     "output_type": "stream",
     "text": [
      "1377\n"
     ]
    }
   ],
   "source": [
    "id_df = pd.read_csv(os.path.join(data_path, 'test_ids.csv'))\n",
    "ids = list(id_df['ImageId'])\n",
    "\n",
    "print(len(ids))"
   ]
  },
  {
   "cell_type": "code",
   "execution_count": 4,
   "metadata": {},
   "outputs": [],
   "source": [
    "def use_leakage(ids, ptt, pt_clean):\n",
    "    leak_sample_df = pd.read_csv(os.path.join(data_path, \"sample_submission_leak.csv\"))\n",
    "\n",
    "    # this part was taken from @raddar's kernel: https://www.kaggle.com/raddar/better-sample-submission\n",
    "    masks_ = leak_sample_df.groupby('ImageId')['ImageId'].count().reset_index(name='N')\n",
    "    masks_ = masks_.loc[masks_.N > 1].ImageId.values\n",
    "\n",
    "    # restore preds with multiple masks\n",
    "    for i, uid in enumerate(ids):\n",
    "        if uid in masks_:\n",
    "            pt_clean[i] = ptt[i]\n",
    "            \n",
    "    return pt_clean"
   ]
  },
  {
   "cell_type": "markdown",
   "metadata": {},
   "source": [
    "## common config"
   ]
  },
  {
   "cell_type": "code",
   "execution_count": 5,
   "metadata": {},
   "outputs": [],
   "source": [
    "sz = 512\n",
    "tag = 'en2'\n",
    "\n",
    "pts = [\n",
    "    'hc_pt_20190729-122311_512_fold0',\n",
    "    'hc_pt_20190729-122311_512_fold1'\n",
    "]\n",
    "thrs = [\n",
    "    0.25,\n",
    "    0.25\n",
    "]\n",
    "n_thrs = [\n",
    "    75,\n",
    "    75\n",
    "]"
   ]
  },
  {
   "cell_type": "code",
   "execution_count": 6,
   "metadata": {},
   "outputs": [
    {
     "name": "stdout",
     "output_type": "stream",
     "text": [
      "i: 0, pt: hc_pt_20190729-122311_512_fold0, thr: 0.25, n_thr: 75\n",
      "i: 1, pt: hc_pt_20190729-122311_512_fold1, thr: 0.25, n_thr: 75\n"
     ]
    }
   ],
   "source": [
    "for i, (pt, thr, n_thr) in enumerate(zip(pts, thrs, n_thrs)):\n",
    "    print('i: {}, pt: {}, thr: {}, n_thr: {}'.format(i, pt, thr, n_thr))\n",
    "    \n",
    "    ptt = torch.load(pt)\n",
    "    \n",
    "    # hard mask\n",
    "    ptt = (ptt[:,...]>thr).float()\n",
    "    \n",
    "    pt_mask = ptt.clone()\n",
    "    \n",
    "    # noise removal\n",
    "    pt_mask[pt_mask.view(pt_mask.shape[0],-1).sum(-1) < n_thr*(sz/128.0)**2,...] = 0.0\n",
    "    \n",
    "    # leakage\n",
    "    pt_mask = use_leakage(ids, ptt, pt_mask)\n",
    "    \n",
    "    if i == 0:\n",
    "        pt_ensemble = pt_mask\n",
    "    else:\n",
    "        pt_ensemble += pt_mask\n",
    "        \n",
    "    gc.collect()\n",
    "    torch.cuda.empty_cache()"
   ]
  },
  {
   "cell_type": "code",
   "execution_count": 7,
   "metadata": {},
   "outputs": [],
   "source": [
    "# majority vote\n",
    "pt_ensemble = (pt_ensemble[:,...]>(len(pts)/2.)).long()"
   ]
  },
  {
   "cell_type": "code",
   "execution_count": 8,
   "metadata": {},
   "outputs": [],
   "source": [
    "# Generate rle encodings in parallel (images are first converted to the original size)\n",
    "mask_size = 1024\n",
    "\n",
    "def mask_worker(mask):\n",
    "    im = PIL.Image.fromarray((mask.T*255).astype(np.uint8)).resize((mask_size, mask_size))\n",
    "    im = np.asarray(im)\n",
    "\n",
    "    rle = mask2rle(im, mask_size, mask_size)\n",
    "    \n",
    "    return rle\n",
    "\n",
    "pool = mp.Pool()\n",
    "rle_list = pool.map(mask_worker, pt_ensemble.numpy())"
   ]
  },
  {
   "cell_type": "code",
   "execution_count": 9,
   "metadata": {},
   "outputs": [
    {
     "data": {
      "text/html": [
       "<div>\n",
       "<style scoped>\n",
       "    .dataframe tbody tr th:only-of-type {\n",
       "        vertical-align: middle;\n",
       "    }\n",
       "\n",
       "    .dataframe tbody tr th {\n",
       "        vertical-align: top;\n",
       "    }\n",
       "\n",
       "    .dataframe thead th {\n",
       "        text-align: right;\n",
       "    }\n",
       "</style>\n",
       "<table border=\"1\" class=\"dataframe\">\n",
       "  <thead>\n",
       "    <tr style=\"text-align: right;\">\n",
       "      <th></th>\n",
       "      <th>ImageId</th>\n",
       "      <th>EncodedPixels</th>\n",
       "    </tr>\n",
       "  </thead>\n",
       "  <tbody>\n",
       "    <tr>\n",
       "      <th>0</th>\n",
       "      <td>1.2.276.0.7230010.3.1.4.8323329.6106.151787519...</td>\n",
       "      <td>-1</td>\n",
       "    </tr>\n",
       "    <tr>\n",
       "      <th>1</th>\n",
       "      <td>1.2.276.0.7230010.3.1.4.8323329.6588.151787519...</td>\n",
       "      <td>-1</td>\n",
       "    </tr>\n",
       "    <tr>\n",
       "      <th>2</th>\n",
       "      <td>1.2.276.0.7230010.3.1.4.8323329.6014.151787519...</td>\n",
       "      <td>-1</td>\n",
       "    </tr>\n",
       "    <tr>\n",
       "      <th>3</th>\n",
       "      <td>1.2.276.0.7230010.3.1.4.8323329.6813.151787520...</td>\n",
       "      <td>-1</td>\n",
       "    </tr>\n",
       "    <tr>\n",
       "      <th>4</th>\n",
       "      <td>1.2.276.0.7230010.3.1.4.8323329.699.1517875164...</td>\n",
       "      <td>-1</td>\n",
       "    </tr>\n",
       "    <tr>\n",
       "      <th>5</th>\n",
       "      <td>1.2.276.0.7230010.3.1.4.8323329.6236.151787519...</td>\n",
       "      <td>-1</td>\n",
       "    </tr>\n",
       "    <tr>\n",
       "      <th>6</th>\n",
       "      <td>1.2.276.0.7230010.3.1.4.8323329.6680.151787519...</td>\n",
       "      <td>-1</td>\n",
       "    </tr>\n",
       "    <tr>\n",
       "      <th>7</th>\n",
       "      <td>1.2.276.0.7230010.3.1.4.8323329.6967.151787520...</td>\n",
       "      <td>-1</td>\n",
       "    </tr>\n",
       "    <tr>\n",
       "      <th>8</th>\n",
       "      <td>1.2.276.0.7230010.3.1.4.8323329.6923.151787520...</td>\n",
       "      <td>-1</td>\n",
       "    </tr>\n",
       "    <tr>\n",
       "      <th>9</th>\n",
       "      <td>1.2.276.0.7230010.3.1.4.8323329.6744.151787519...</td>\n",
       "      <td>-1</td>\n",
       "    </tr>\n",
       "    <tr>\n",
       "      <th>10</th>\n",
       "      <td>1.2.276.0.7230010.3.1.4.8323329.6706.151787519...</td>\n",
       "      <td>-1</td>\n",
       "    </tr>\n",
       "    <tr>\n",
       "      <th>11</th>\n",
       "      <td>1.2.276.0.7230010.3.1.4.8323329.6277.151787519...</td>\n",
       "      <td>-1</td>\n",
       "    </tr>\n",
       "    <tr>\n",
       "      <th>12</th>\n",
       "      <td>1.2.276.0.7230010.3.1.4.8323329.6539.151787519...</td>\n",
       "      <td>-1</td>\n",
       "    </tr>\n",
       "    <tr>\n",
       "      <th>13</th>\n",
       "      <td>1.2.276.0.7230010.3.1.4.8323329.6782.151787520...</td>\n",
       "      <td>-1</td>\n",
       "    </tr>\n",
       "    <tr>\n",
       "      <th>14</th>\n",
       "      <td>1.2.276.0.7230010.3.1.4.8323329.6485.151787519...</td>\n",
       "      <td>-1</td>\n",
       "    </tr>\n",
       "    <tr>\n",
       "      <th>15</th>\n",
       "      <td>1.2.276.0.7230010.3.1.4.8323329.6451.151787519...</td>\n",
       "      <td>569490 8 1016 8 1010 18 1006 18 1004 24 1000 2...</td>\n",
       "    </tr>\n",
       "    <tr>\n",
       "      <th>16</th>\n",
       "      <td>1.2.276.0.7230010.3.1.4.8323329.6666.151787519...</td>\n",
       "      <td>-1</td>\n",
       "    </tr>\n",
       "    <tr>\n",
       "      <th>17</th>\n",
       "      <td>1.2.276.0.7230010.3.1.4.8323329.684.1517875164...</td>\n",
       "      <td>-1</td>\n",
       "    </tr>\n",
       "    <tr>\n",
       "      <th>18</th>\n",
       "      <td>1.2.276.0.7230010.3.1.4.8323329.6849.151787520...</td>\n",
       "      <td>-1</td>\n",
       "    </tr>\n",
       "    <tr>\n",
       "      <th>19</th>\n",
       "      <td>1.2.276.0.7230010.3.1.4.8323329.6165.151787519...</td>\n",
       "      <td>-1</td>\n",
       "    </tr>\n",
       "  </tbody>\n",
       "</table>\n",
       "</div>"
      ],
      "text/plain": [
       "                                              ImageId  \\\n",
       "0   1.2.276.0.7230010.3.1.4.8323329.6106.151787519...   \n",
       "1   1.2.276.0.7230010.3.1.4.8323329.6588.151787519...   \n",
       "2   1.2.276.0.7230010.3.1.4.8323329.6014.151787519...   \n",
       "3   1.2.276.0.7230010.3.1.4.8323329.6813.151787520...   \n",
       "4   1.2.276.0.7230010.3.1.4.8323329.699.1517875164...   \n",
       "5   1.2.276.0.7230010.3.1.4.8323329.6236.151787519...   \n",
       "6   1.2.276.0.7230010.3.1.4.8323329.6680.151787519...   \n",
       "7   1.2.276.0.7230010.3.1.4.8323329.6967.151787520...   \n",
       "8   1.2.276.0.7230010.3.1.4.8323329.6923.151787520...   \n",
       "9   1.2.276.0.7230010.3.1.4.8323329.6744.151787519...   \n",
       "10  1.2.276.0.7230010.3.1.4.8323329.6706.151787519...   \n",
       "11  1.2.276.0.7230010.3.1.4.8323329.6277.151787519...   \n",
       "12  1.2.276.0.7230010.3.1.4.8323329.6539.151787519...   \n",
       "13  1.2.276.0.7230010.3.1.4.8323329.6782.151787520...   \n",
       "14  1.2.276.0.7230010.3.1.4.8323329.6485.151787519...   \n",
       "15  1.2.276.0.7230010.3.1.4.8323329.6451.151787519...   \n",
       "16  1.2.276.0.7230010.3.1.4.8323329.6666.151787519...   \n",
       "17  1.2.276.0.7230010.3.1.4.8323329.684.1517875164...   \n",
       "18  1.2.276.0.7230010.3.1.4.8323329.6849.151787520...   \n",
       "19  1.2.276.0.7230010.3.1.4.8323329.6165.151787519...   \n",
       "\n",
       "                                        EncodedPixels  \n",
       "0                                                  -1  \n",
       "1                                                  -1  \n",
       "2                                                  -1  \n",
       "3                                                  -1  \n",
       "4                                                  -1  \n",
       "5                                                  -1  \n",
       "6                                                  -1  \n",
       "7                                                  -1  \n",
       "8                                                  -1  \n",
       "9                                                  -1  \n",
       "10                                                 -1  \n",
       "11                                                 -1  \n",
       "12                                                 -1  \n",
       "13                                                 -1  \n",
       "14                                                 -1  \n",
       "15  569490 8 1016 8 1010 18 1006 18 1004 24 1000 2...  \n",
       "16                                                 -1  \n",
       "17                                                 -1  \n",
       "18                                                 -1  \n",
       "19                                                 -1  "
      ]
     },
     "execution_count": 9,
     "metadata": {},
     "output_type": "execute_result"
    }
   ],
   "source": [
    "# ok, export submission csv\n",
    "\n",
    "sub_df = pd.DataFrame({'ImageId': ids, 'EncodedPixels': rle_list})\n",
    "sub_df.loc[sub_df.EncodedPixels=='', 'EncodedPixels'] = '-1'\n",
    "\n",
    "sub_df.to_csv('ensemble_sub_{}_{}.csv'.format(tag, sz), index=False)\n",
    "\n",
    "sub_df.head(20)"
   ]
  },
  {
   "cell_type": "code",
   "execution_count": null,
   "metadata": {},
   "outputs": [],
   "source": []
  }
 ],
 "metadata": {
  "kernelspec": {
   "display_name": "Python siim",
   "language": "python",
   "name": "siim"
  },
  "language_info": {
   "codemirror_mode": {
    "name": "ipython",
    "version": 3
   },
   "file_extension": ".py",
   "mimetype": "text/x-python",
   "name": "python",
   "nbconvert_exporter": "python",
   "pygments_lexer": "ipython3",
   "version": "3.7.3"
  }
 },
 "nbformat": 4,
 "nbformat_minor": 2
}
