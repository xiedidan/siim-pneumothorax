{
 "cells": [
  {
   "cell_type": "markdown",
   "metadata": {},
   "source": [
    "# Mask Research\n"
   ]
  },
  {
   "cell_type": "code",
   "execution_count": 4,
   "metadata": {},
   "outputs": [],
   "source": [
    "%reload_ext autoreload\n",
    "%autoreload 2\n",
    "%matplotlib inline\n",
    "\n",
    "import os\n",
    "import gc\n",
    "import multiprocessing as mp\n",
    "\n",
    "import torch\n",
    "import torch.nn as nn\n",
    "import torch.nn.functional as F\n",
    "import numpy as np\n",
    "import pandas as pd\n",
    "\n",
    "import matplotlib\n",
    "import matplotlib.pyplot as plt\n",
    "from PIL import Image\n",
    "import cv2"
   ]
  },
  {
   "cell_type": "code",
   "execution_count": 5,
   "metadata": {},
   "outputs": [],
   "source": [
    "data_path = '../../data/siim-pneumothorax'\n",
    "mask_path = os.path.join(data_path, 'mask_png')\n",
    "\n",
    "mask_list = os.listdir(mask_path)\n",
    "mask_list = filter(lambda filename: len(os.path.splitext(filename))>1 and (os.path.splitext(filename)[1]=='.png'), mask_list)\n",
    "mask_list = [os.path.join(mask_path, mask_name) for mask_name in mask_list]\n"
   ]
  },
  {
   "cell_type": "markdown",
   "metadata": {},
   "source": [
    "### 研究Mask面积分布"
   ]
  },
  {
   "cell_type": "code",
   "execution_count": 6,
   "metadata": {},
   "outputs": [],
   "source": [
    "def calc_mask_area(mask_file):\n",
    "    mask = cv2.imread(mask_file, cv2.IMREAD_GRAYSCALE).astype(np.float32) / 255.\n",
    "    return mask.sum()\n",
    "\n",
    "pool = mp.Pool()\n",
    "areas = pool.map(calc_mask_area, mask_list)\n"
   ]
  },
  {
   "cell_type": "code",
   "execution_count": 24,
   "metadata": {},
   "outputs": [
    {
     "name": "stdout",
     "output_type": "stream",
     "text": [
      "total: 2379, max area: 161421.0, min area: 55.0\n"
     ]
    }
   ],
   "source": [
    "pos_areas = list(filter(lambda area: (area > 0), areas))\n",
    "\n",
    "print('total: {}, max area: {}, min area: {}'.format(len(pos_areas), np.max(pos_areas), np.min(pos_areas)))\n"
   ]
  },
  {
   "cell_type": "code",
   "execution_count": 10,
   "metadata": {},
   "outputs": [
    {
     "data": {
      "text/plain": [
       "(array([611., 540., 340., 199., 166., 108.,  84.,  75.,  59.,  44.,  23.,\n",
       "         22.,  14.,  22.,  10.,  11.,   5.,   7.,   7.,   7.,   6.,   1.,\n",
       "          2.,   3.,   2.,   3.,   1.,   0.,   1.,   2.,   0.,   1.,   0.,\n",
       "          1.,   0.,   0.,   1.,   0.,   0.,   1.]),\n",
       " array([5.5000000e+01, 4.0891499e+03, 8.1232998e+03, 1.2157450e+04,\n",
       "        1.6191600e+04, 2.0225750e+04, 2.4259900e+04, 2.8294051e+04,\n",
       "        3.2328199e+04, 3.6362352e+04, 4.0396500e+04, 4.4430648e+04,\n",
       "        4.8464801e+04, 5.2498949e+04, 5.6533102e+04, 6.0567250e+04,\n",
       "        6.4601398e+04, 6.8635547e+04, 7.2669703e+04, 7.6703852e+04,\n",
       "        8.0738000e+04, 8.4772148e+04, 8.8806297e+04, 9.2840453e+04,\n",
       "        9.6874602e+04, 1.0090875e+05, 1.0494290e+05, 1.0897705e+05,\n",
       "        1.1301120e+05, 1.1704535e+05, 1.2107950e+05, 1.2511365e+05,\n",
       "        1.2914780e+05, 1.3318195e+05, 1.3721609e+05, 1.4125025e+05,\n",
       "        1.4528441e+05, 1.4931855e+05, 1.5335270e+05, 1.5738684e+05,\n",
       "        1.6142100e+05], dtype=float32),\n",
       " <a list of 40 Patch objects>)"
      ]
     },
     "execution_count": 10,
     "metadata": {},
     "output_type": "execute_result"
    },
    {
     "data": {
      "image/png": "[encoded data removed]",
      "text/plain": [
       "<Figure size 432x288 with 1 Axes>"
      ]
     },
     "metadata": {
      "needs_background": "light"
     },
     "output_type": "display_data"
    }
   ],
   "source": [
    "plt.hist(pos_areas, bins=40)"
   ]
  },
  {
   "cell_type": "markdown",
   "metadata": {},
   "source": [
    "### 研究无Noise Removal的预测面积分布"
   ]
  },
  {
   "cell_type": "code",
   "execution_count": 32,
   "metadata": {},
   "outputs": [],
   "source": [
    "nfolds = 4\n",
    "\n",
    "tag = '20190729-122311_512'\n",
    "self_attention = True\n",
    "\n",
    "best_thr = 0.565"
   ]
  },
  {
   "cell_type": "code",
   "execution_count": 33,
   "metadata": {},
   "outputs": [
    {
     "name": "stdout",
     "output_type": "stream",
     "text": [
      "fold:  0\n",
      "fold:  1\n",
      "fold:  2\n",
      "fold:  3\n",
      "torch.Size([10712])\n"
     ]
    }
   ],
   "source": [
    "p_areas = []\n",
    "\n",
    "for fold in range(nfolds):\n",
    "    print('fold: ', fold)\n",
    "    \n",
    "    # load preds and ys\n",
    "    preds = torch.load('hc_preds_{}_fold{}.pth'.format(tag, fold))\n",
    "    # ys = torch.load('hc_ys_{}_fold{}.pth'.format(tag, fold))\n",
    "    \n",
    "    preds_m = (preds>best_thr).long()\n",
    "    \n",
    "    n = preds_m.shape[0]\n",
    "    pred_areas = preds_m.view(n, -1).sum(-1)\n",
    "    p_areas.append(pred_areas)\n",
    "    \n",
    "    del preds\n",
    "    gc.collect()\n",
    "    torch.cuda.empty_cache()\n",
    "    \n",
    "p_areas = torch.cat(p_areas, dim=0)\n",
    "print(p_areas.shape)"
   ]
  },
  {
   "cell_type": "code",
   "execution_count": 34,
   "metadata": {},
   "outputs": [
    {
     "name": "stdout",
     "output_type": "stream",
     "text": [
      "total: 1801, max area: 30849, min area: 1\n"
     ]
    }
   ],
   "source": [
    "ppos_areas = list(filter(lambda p_area: (p_area>0), p_areas.numpy()))\n",
    "\n",
    "print('total: {}, max area: {}, min area: {}'.format(len(ppos_areas), np.max(ppos_areas), np.min(ppos_areas)))"
   ]
  },
  {
   "cell_type": "code",
   "execution_count": 35,
   "metadata": {},
   "outputs": [
    {
     "data": {
      "text/plain": [
       "(array([745., 305., 170., 123.,  88.,  74.,  59.,  55.,  45.,  20.,  18.,\n",
       "         19.,   7.,  15.,   5.,  13.,   1.,   9.,   4.,   3.,   2.,   3.,\n",
       "          5.,   1.,   0.,   0.,   1.,   2.,   2.,   0.,   0.,   0.,   1.,\n",
       "          0.,   0.,   2.,   1.,   0.,   1.,   2.]),\n",
       " array([1.00000e+00, 7.72200e+02, 1.54340e+03, 2.31460e+03, 3.08580e+03,\n",
       "        3.85700e+03, 4.62820e+03, 5.39940e+03, 6.17060e+03, 6.94180e+03,\n",
       "        7.71300e+03, 8.48420e+03, 9.25540e+03, 1.00266e+04, 1.07978e+04,\n",
       "        1.15690e+04, 1.23402e+04, 1.31114e+04, 1.38826e+04, 1.46538e+04,\n",
       "        1.54250e+04, 1.61962e+04, 1.69674e+04, 1.77386e+04, 1.85098e+04,\n",
       "        1.92810e+04, 2.00522e+04, 2.08234e+04, 2.15946e+04, 2.23658e+04,\n",
       "        2.31370e+04, 2.39082e+04, 2.46794e+04, 2.54506e+04, 2.62218e+04,\n",
       "        2.69930e+04, 2.77642e+04, 2.85354e+04, 2.93066e+04, 3.00778e+04,\n",
       "        3.08490e+04]),\n",
       " <a list of 40 Patch objects>)"
      ]
     },
     "execution_count": 35,
     "metadata": {},
     "output_type": "execute_result"
    },
    {
     "data": {
      "image/png": "[encoded data removed]",
      "text/plain": [
       "<Figure size 432x288 with 1 Axes>"
      ]
     },
     "metadata": {
      "needs_background": "light"
     },
     "output_type": "display_data"
    }
   ],
   "source": [
    "plt.hist(ppos_areas, bins=40)"
   ]
  },
  {
   "cell_type": "code",
   "execution_count": 36,
   "metadata": {},
   "outputs": [
    {
     "name": "stdout",
     "output_type": "stream",
     "text": [
      "total area: 4339143\n"
     ]
    }
   ],
   "source": [
    "print('total area: {}'.format(np.sum(ppos_areas)))"
   ]
  },
  {
   "cell_type": "markdown",
   "metadata": {},
   "source": [
    "## 有Noise Removal的预测分布"
   ]
  },
  {
   "cell_type": "code",
   "execution_count": 27,
   "metadata": {},
   "outputs": [],
   "source": [
    "nfolds = 4\n",
    "\n",
    "tag = '20190729-122311_512'\n",
    "self_attention = True\n",
    "\n",
    "sz = 512\n",
    "noise_th = 75.0*(sz/128.0)**2\n",
    "best_thr = 0.255"
   ]
  },
  {
   "cell_type": "code",
   "execution_count": 28,
   "metadata": {},
   "outputs": [
    {
     "name": "stdout",
     "output_type": "stream",
     "text": [
      "fold:  0\n",
      "fold:  1\n",
      "fold:  2\n",
      "fold:  3\n",
      "torch.Size([10712])\n"
     ]
    }
   ],
   "source": [
    "p_areas = []\n",
    "\n",
    "for fold in range(nfolds):\n",
    "    print('fold: ', fold)\n",
    "    \n",
    "    # load preds and ys\n",
    "    preds = torch.load('hc_preds_{}_fold{}.pth'.format(tag, fold))\n",
    "    # ys = torch.load('hc_ys_{}_fold{}.pth'.format(tag, fold))\n",
    "    \n",
    "    preds[preds.view(preds.shape[0],-1).sum(-1) < noise_th,...] = 0.0\n",
    "    \n",
    "    preds_m = (preds>best_thr).long()\n",
    "    \n",
    "    n = preds_m.shape[0]\n",
    "    pred_areas = preds_m.view(n, -1).sum(-1)\n",
    "    p_areas.append(pred_areas)\n",
    "    \n",
    "    del preds\n",
    "    gc.collect()\n",
    "    torch.cuda.empty_cache()\n",
    "    \n",
    "p_areas = torch.cat(p_areas, dim=0)\n",
    "print(p_areas.shape)"
   ]
  },
  {
   "cell_type": "code",
   "execution_count": 29,
   "metadata": {},
   "outputs": [
    {
     "name": "stdout",
     "output_type": "stream",
     "text": [
      "total: 1443, max area: 39024, min area: 176\n"
     ]
    }
   ],
   "source": [
    "ppos_areas = list(filter(lambda p_area: (p_area>0), p_areas.numpy()))\n",
    "\n",
    "print('total: {}, max area: {}, min area: {}'.format(len(ppos_areas), np.max(ppos_areas), np.min(ppos_areas)))"
   ]
  },
  {
   "cell_type": "code",
   "execution_count": 30,
   "metadata": {},
   "outputs": [
    {
     "data": {
      "text/plain": [
       "(array([ 36., 272., 313., 177., 116., 119.,  75.,  80.,  58.,  43.,  28.,\n",
       "         24.,  19.,   8.,  12.,  12.,   6.,   5.,   6.,   2.,   6.,   4.,\n",
       "          5.,   1.,   5.,   1.,   0.,   1.,   0.,   2.,   0.,   0.,   1.,\n",
       "          1.,   0.,   1.,   2.,   1.,   0.,   1.]),\n",
       " array([  176. ,  1147.2,  2118.4,  3089.6,  4060.8,  5032. ,  6003.2,\n",
       "         6974.4,  7945.6,  8916.8,  9888. , 10859.2, 11830.4, 12801.6,\n",
       "        13772.8, 14744. , 15715.2, 16686.4, 17657.6, 18628.8, 19600. ,\n",
       "        20571.2, 21542.4, 22513.6, 23484.8, 24456. , 25427.2, 26398.4,\n",
       "        27369.6, 28340.8, 29312. , 30283.2, 31254.4, 32225.6, 33196.8,\n",
       "        34168. , 35139.2, 36110.4, 37081.6, 38052.8, 39024. ]),\n",
       " <a list of 40 Patch objects>)"
      ]
     },
     "execution_count": 30,
     "metadata": {},
     "output_type": "execute_result"
    },
    {
     "data": {
      "image/png": "[encoded data removed]",
      "text/plain": [
       "<Figure size 432x288 with 1 Axes>"
      ]
     },
     "metadata": {
      "needs_background": "light"
     },
     "output_type": "display_data"
    }
   ],
   "source": [
    "plt.hist(ppos_areas, bins=40)"
   ]
  },
  {
   "cell_type": "code",
   "execution_count": 31,
   "metadata": {},
   "outputs": [
    {
     "name": "stdout",
     "output_type": "stream",
     "text": [
      "total area: 7473049\n"
     ]
    }
   ],
   "source": [
    "print('total area: {}'.format(np.sum(ppos_areas)))"
   ]
  },
  {
   "cell_type": "markdown",
   "metadata": {},
   "source": [
    "## 小面积预测分布"
   ]
  },
  {
   "cell_type": "code",
   "execution_count": 6,
   "metadata": {},
   "outputs": [],
   "source": [
    "nfolds = 4\n",
    "\n",
    "tag = '20190729-122311_512'\n",
    "self_attention = True\n",
    "\n",
    "sz = 512\n",
    "noise_th = 75.0*(sz/128.0)**2\n",
    "best_thr = 0.815"
   ]
  },
  {
   "cell_type": "code",
   "execution_count": 7,
   "metadata": {},
   "outputs": [
    {
     "name": "stdout",
     "output_type": "stream",
     "text": [
      "fold:  0\n",
      "fold:  1\n",
      "fold:  2\n",
      "fold:  3\n",
      "torch.Size([9269])\n"
     ]
    }
   ],
   "source": [
    "p_areas = []\n",
    "\n",
    "for fold in range(nfolds):\n",
    "    print('fold: ', fold)\n",
    "    \n",
    "    # load preds and ys\n",
    "    preds = torch.load('hc_preds_{}_fold{}.pth'.format(tag, fold))\n",
    "    # ys = torch.load('hc_ys_{}_fold{}.pth'.format(tag, fold))\n",
    "    \n",
    "    mask = preds.view(preds.shape[0],-1).sum(-1) < noise_th\n",
    "    indices = mask.nonzero().squeeze(1)\n",
    "\n",
    "    preds = preds[indices]\n",
    "    \n",
    "    preds_m = (preds>best_thr).long()\n",
    "    \n",
    "    n = preds_m.shape[0]\n",
    "    pred_areas = preds_m.view(n, -1).sum(-1)\n",
    "    p_areas.append(pred_areas)\n",
    "    \n",
    "    del preds\n",
    "    gc.collect()\n",
    "    torch.cuda.empty_cache()\n",
    "    \n",
    "p_areas = torch.cat(p_areas, dim=0)\n",
    "print(p_areas.shape)"
   ]
  },
  {
   "cell_type": "code",
   "execution_count": 8,
   "metadata": {},
   "outputs": [
    {
     "name": "stdout",
     "output_type": "stream",
     "text": [
      "total: 82, max area: 519, min area: 2\n"
     ]
    }
   ],
   "source": [
    "ppos_areas = list(filter(lambda p_area: (p_area>0), p_areas.numpy()))\n",
    "\n",
    "print('total: {}, max area: {}, min area: {}'.format(len(ppos_areas), np.max(ppos_areas), np.min(ppos_areas)))"
   ]
  },
  {
   "cell_type": "code",
   "execution_count": 9,
   "metadata": {},
   "outputs": [
    {
     "data": {
      "text/plain": [
       "(array([13., 16., 10.,  7.,  7.,  3.,  2.,  3.,  2.,  3.,  2.,  0.,  1.,\n",
       "         1.,  1.,  1.,  0.,  0.,  0.,  0.,  0.,  1.,  0.,  1.,  1.,  2.,\n",
       "         1.,  0.,  1.,  0.,  0.,  1.,  1.,  0.,  0.,  0.,  0.,  0.,  0.,\n",
       "         1.]),\n",
       " array([  2.   ,  14.925,  27.85 ,  40.775,  53.7  ,  66.625,  79.55 ,\n",
       "         92.475, 105.4  , 118.325, 131.25 , 144.175, 157.1  , 170.025,\n",
       "        182.95 , 195.875, 208.8  , 221.725, 234.65 , 247.575, 260.5  ,\n",
       "        273.425, 286.35 , 299.275, 312.2  , 325.125, 338.05 , 350.975,\n",
       "        363.9  , 376.825, 389.75 , 402.675, 415.6  , 428.525, 441.45 ,\n",
       "        454.375, 467.3  , 480.225, 493.15 , 506.075, 519.   ]),\n",
       " <a list of 40 Patch objects>)"
      ]
     },
     "execution_count": 9,
     "metadata": {},
     "output_type": "execute_result"
    },
    {
     "data": {
      "image/png": "[encoded data removed]",
      "text/plain": [
       "<Figure size 432x288 with 1 Axes>"
      ]
     },
     "metadata": {
      "needs_background": "light"
     },
     "output_type": "display_data"
    }
   ],
   "source": [
    "plt.hist(ppos_areas, bins=40)"
   ]
  }
 ],
 "metadata": {
  "kernelspec": {
   "display_name": "Python siim",
   "language": "python",
   "name": "siim"
  },
  "language_info": {
   "codemirror_mode": {
    "name": "ipython",
    "version": 3
   },
   "file_extension": ".py",
   "mimetype": "text/x-python",
   "name": "python",
   "nbconvert_exporter": "python",
   "pygments_lexer": "ipython3",
   "version": "3.7.3"
  }
 },
 "nbformat": 4,
 "nbformat_minor": 2
}
