{
 "cells": [
  {
   "cell_type": "markdown",
   "metadata": {},
   "source": [
    "## merge results\n",
    "For now, mrcnn model offers very good results with -1,  \n",
    "yet unet offers correct mask results.  \n",
    "So we want to merge them.  \n"
   ]
  },
  {
   "cell_type": "code",
   "execution_count": 2,
   "metadata": {},
   "outputs": [],
   "source": [
    "import pandas as pd\n"
   ]
  },
  {
   "cell_type": "code",
   "execution_count": 7,
   "metadata": {},
   "outputs": [],
   "source": [
    "# load results\n",
    "mrcnn_df = pd.read_csv('./mrcnn.csv')\n",
    "unet_df = pd.read_csv('./unet.csv')\n",
    "sample_df = pd.read_csv('./')"
   ]
  },
  {
   "cell_type": "code",
   "execution_count": 10,
   "metadata": {},
   "outputs": [
    {
     "name": "stdout",
     "output_type": "stream",
     "text": [
      "323\n"
     ]
    }
   ],
   "source": [
    "# get neg id from mrcnn result\n",
    "neg_df = mrcnn_df[mrcnn_df['EncodedPixels']==' -1']\n",
    "neg_id_list = list(neg_df['ImageId'])\n",
    "\n",
    "print(len(neg_id_list))"
   ]
  },
  {
   "cell_type": "code",
   "execution_count": 18,
   "metadata": {},
   "outputs": [
    {
     "name": "stdout",
     "output_type": "stream",
     "text": [
      "1377\n"
     ]
    }
   ],
   "source": [
    "# get pos id from unet result\n",
    "pos_df = unet_df[unet_df['EncodedPixels']!=' -1']\n",
    "pos_id_list = list(set(pos_df['ImageId']))\n",
    "\n",
    "print(len(pos_id_list))"
   ]
  },
  {
   "cell_type": "code",
   "execution_count": 19,
   "metadata": {},
   "outputs": [
    {
     "name": "stdout",
     "output_type": "stream",
     "text": [
      "1054 1377\n"
     ]
    }
   ],
   "source": [
    "unique_id_list = list(set(unet_df['ImageId']))\n",
    "\n",
    "# get pos id from unet result\n",
    "pos_id_list = []\n",
    "\n",
    "for uid in unique_id_list:\n",
    "    if uid not in neg_id_list:\n",
    "        pos_id_list.append(uid)\n",
    "\n",
    "print(len(pos_id_list), len(unique_id_list))"
   ]
  },
  {
   "cell_type": "code",
   "execution_count": 20,
   "metadata": {},
   "outputs": [],
   "source": [
    "# export all empty csv\n",
    "ulist = []\n",
    "\n",
    "for uid in unique_id_list:\n",
    "    ulist.append([uid, ' -1'])\n",
    "    \n",
    "udf = pd.DataFrame(ulist, columns=['ImageId', 'EncodedPixels'])\n",
    "udf.to_csv('empty.csv', index=False)"
   ]
  },
  {
   "cell_type": "code",
   "execution_count": 15,
   "metadata": {},
   "outputs": [],
   "source": [
    "# now, merge\n",
    "merge_list = []\n",
    "\n",
    "for neg_id in neg_id_list:\n",
    "    merge_list.append([neg_id, ' -1'])\n",
    "    \n",
    "for pos_id in pos_id_list:\n",
    "    pos_df = unet_df[unet_df['ImageId']==pos_id]\n",
    "    rle_list = list(pos_df['EncodedPixels'])\n",
    "    \n",
    "    for rle in rle_list:\n",
    "        merge_list.append([pos_id, rle])\n",
    "        "
   ]
  },
  {
   "cell_type": "code",
   "execution_count": 17,
   "metadata": {},
   "outputs": [],
   "source": [
    "# export\n",
    "merge_df = pd.DataFrame(merge_list, columns=['ImageId', 'EncodedPixels'])\n",
    "merge_df.to_csv('merge.csv', index=False)\n"
   ]
  },
  {
   "cell_type": "code",
   "execution_count": null,
   "metadata": {},
   "outputs": [],
   "source": []
  }
 ],
 "metadata": {
  "kernelspec": {
   "display_name": "Python siim",
   "language": "python",
   "name": "siim"
  },
  "language_info": {
   "codemirror_mode": {
    "name": "ipython",
    "version": 3
   },
   "file_extension": ".py",
   "mimetype": "text/x-python",
   "name": "python",
   "nbconvert_exporter": "python",
   "pygments_lexer": "ipython3",
   "version": "3.7.3"
  }
 },
 "nbformat": 4,
 "nbformat_minor": 2
}
